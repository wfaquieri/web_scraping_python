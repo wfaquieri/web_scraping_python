{
 "cells": [
  {
   "cell_type": "code",
   "execution_count": null,
   "id": "4ccb39f0",
   "metadata": {},
   "outputs": [],
   "source": [
    "## Create your own bit of HTML code (as a python string)\n",
    "\n",
    "html = '''\n",
    "<html>\n",
    "  <head>\n",
    "    <title>Intro HTML</title>\n",
    "  </head>\n",
    "  <body>\n",
    "    <p>Hello World!</p>\n",
    "    <p>Enjoy DataCamp!</p>\n",
    "  </body>\n",
    "</html>\n",
    "'''"
   ]
  },
  {
   "cell_type": "code",
   "execution_count": null,
   "id": "6184d704",
   "metadata": {},
   "outputs": [],
   "source": [
    "<html>\n",
    "  <head>\n",
    "    <title>Website Title</title>\n",
    "    <link rel=\"stylesheet\" type=\"text/css\" href=\"style.css\">\n",
    "  </head>\n",
    "  <body>\n",
    "    <div class=\"class1\" id=\"div1\">\n",
    "      <p class=\"class2\">\n",
    "        Visit <a href=\"http://datacamp.com/\">DataCamp</a>!\n",
    "      </p>\n",
    "    </div>\n",
    "    <div class=\"class1 class3\" id=\"div2\">\n",
    "      Hello World!\n",
    "    </div>\n",
    "  </body>\n",
    "</html>"
   ]
  },
  {
   "cell_type": "code",
   "execution_count": null,
   "id": "8e0da123",
   "metadata": {},
   "outputs": [],
   "source": [
    "# HTML code string\n",
    "html = '''\n",
    "<html>\n",
    "  <body>\n",
    "    <div class=\"class1\" id=\"div1\">\n",
    "      <p class=\"class2\">Visit DataCamp!</p>\n",
    "    </div>\n",
    "    <div class=\"you-are-classy\">\n",
    "      <p class=\"class2\">Keep up the good work!</p>\n",
    "    </div>\n",
    "  </body>\n",
    "</html>\n",
    "'''\n",
    "# Print out the class of the second div element\n",
    "whats_my_class( html )"
   ]
  },
  {
   "cell_type": "code",
   "execution_count": null,
   "id": "fb97e57c",
   "metadata": {},
   "outputs": [],
   "source": [
    "# Create an XPath string to the desired paragraph element\n",
    "xpath = '/html/body/div[1]/div/p'\n",
    "\n",
    "# Print out the element text\n",
    "print_element_text(xpath)"
   ]
  },
  {
   "cell_type": "code",
   "execution_count": null,
   "id": "301b22ae",
   "metadata": {},
   "outputs": [],
   "source": [
    "# Example 1\n",
    "xpath = '//p[@class=\"class-1\"]'\n",
    "\n",
    "# Example 2\n",
    "xpath = '//*[@id=\"uid\"]'\n",
    "\n",
    "# Example 3\n",
    "xpath = '//div[@id=\"uid\"]/p[2]'"
   ]
  },
  {
   "cell_type": "code",
   "execution_count": null,
   "id": "67832da3",
   "metadata": {},
   "outputs": [],
   "source": [
    "# Contains\n",
    "xpath = '//*[contains(@class,\"class-1\")]'\n",
    "\n",
    "# Example 4\n",
    "xpath = '/html/body/div/p[2]/@class'\n",
    "\n",
    "# Ex 5\n",
    "# Create an xpath to the href attribute\n",
    "xpath = '//p[@id=\"p2\"]/a/@href'\n",
    "\n",
    "# Ex 6 # Create an xpath to the href attributes\n",
    "xpath = '//a[contains(@class,\"package-snippet\")]/@href'"
   ]
  },
  {
   "cell_type": "code",
   "execution_count": null,
   "id": "c27f7189",
   "metadata": {},
   "outputs": [],
   "source": [
    "## Setting up a selector\n",
    "from scrapy import selector\n",
    "\n",
    "sel = Selector(text = html)\n",
    "sel.xpath(\"//p\")\n",
    "\n",
    "sel.xpath(\"//p\").extract()\n",
    "\n",
    "sel.xpath(\"//p\").extract_first()"
   ]
  },
  {
   "cell_type": "code",
   "execution_count": null,
   "id": "c5c6b495",
   "metadata": {},
   "outputs": [],
   "source": [
    "## Extracting data from a selector\n",
    "ps = sel.xpath('\\\\p')\n",
    "\n",
    "second_p = ps[1] # first = 0; second = 1\n",
    "\n",
    "second_p.extract()"
   ]
  },
  {
   "cell_type": "code",
   "execution_count": null,
   "id": "64b49dc8",
   "metadata": {},
   "outputs": [],
   "source": [
    "sel.xpath('/html/body/div[2]')\n",
    "\n",
    "#is the same as\n",
    "sel.xpath('/html').xpath('./body/div[2]')\n",
    "\n",
    "# or is the same as\n",
    "sel.xpath('/html').xpath('./body').xpath('./div[2]')"
   ]
  },
  {
   "cell_type": "code",
   "execution_count": null,
   "id": "888c42fc",
   "metadata": {},
   "outputs": [],
   "source": [
    "# Chain together xpath methods to select desired p element\n",
    "sel.xpath('//div').xpath('./span/p[3]')"
   ]
  },
  {
   "cell_type": "code",
   "execution_count": null,
   "id": "d2eade86",
   "metadata": {},
   "outputs": [],
   "source": [
    "from scrapy import Selector\n",
    "\n",
    "# HTML document \n",
    "html = '\\n<html>\\n<body>\\n<div>Div 1: <p>paragraph 1</p></div>\\n<div>Div 2: <p>paragraph 2</p> <p>paragraph 3</p> </div>\\n<div>Div 3: <p>paragraph 4</p> <p>paragraph 5</p> <p>paragraph 6</p></div>\\n<div>Div 4: <p>paragraph 7</p></div>\\n<div>Div 5: <p>paragraph 8</p></div>\\n</body>\\n</html>\\n'\n",
    "\n",
    "# Create a Selector selecting html as the HTML document\n",
    "sel = Selector( text = html )\n",
    "\n",
    "# Create a SelectorList of all div elements in the HTML document\n",
    "divs = sel.xpath( '//div' )"
   ]
  },
  {
   "cell_type": "code",
   "execution_count": null,
   "id": "2be55b62",
   "metadata": {},
   "outputs": [],
   "source": [
    "# The Source of the Source\n",
    "## Ispecting the HTML\n",
    "import requests\n",
    "url = 'https://en.wikipedia.org/wiki/Web_scraping'\n",
    "    \n",
    "html = requets.get(url).content\n",
    "\n",
    "sel = Selector( text = html )"
   ]
  },
  {
   "cell_type": "code",
   "execution_count": null,
   "id": "86c7efa9",
   "metadata": {},
   "outputs": [],
   "source": [
    "## Requesting a Selector\n",
    "\n",
    "# Import a scrapy Selector\n",
    "from scrapy import Selector\n",
    "\n",
    "# Import requests\n",
    "import requests\n",
    "\n",
    "# Create the string html containing the HTML source\n",
    "html = requests.get( url ).content\n",
    "\n",
    "# Create the Selector object sel from html\n",
    "sel = Selector( text = html )\n",
    "\n",
    "# Print out the number of elements in the HTML document\n",
    "print( \"There are 1020 elements in the HTML document.\")\n",
    "print( \"You have found: \", len( sel.xpath('//*') ) )"
   ]
  },
  {
   "cell_type": "code",
   "execution_count": null,
   "id": "7832fa9a",
   "metadata": {},
   "outputs": [],
   "source": [
    "## From XPath to CSS - CSS Locators\n",
    "\n",
    "# '/' replace by '>' (except first character)\n",
    "xpath = '/html/body/div'\n",
    "css_locator = html > body > div\n",
    "\n",
    "\n",
    "# '//' replace by a blank space (except first character)\n",
    "xpath = //div/span//p\n",
    "css_locator = div > span p\n",
    "\n",
    "# '[N]' replace by ':nth-of-type(N)''\n",
    "xpath = //div/p[2]\n",
    "css_locator = div > p:nth-of-type(2)"
   ]
  },
  {
   "cell_type": "code",
   "execution_count": null,
   "id": "7946b6b4",
   "metadata": {},
   "outputs": [],
   "source": [
    "## Attributes in CSS - IMPORTANTE!\n",
    "\n",
    "# To find an element by class, use .\n",
    "css_locator_by_class = 'div.course-block > a'\n",
    "\n",
    "# To find an element by id, use #\n",
    "css_locator_by_id = 'div#uid > a'\n"
   ]
  },
  {
   "cell_type": "code",
   "execution_count": null,
   "id": "b8a9bdda",
   "metadata": {},
   "outputs": [],
   "source": [
    "# Create the XPath string equivalent to the CSS Locator \n",
    "xpath = '/html/body/span[1]//a'\n",
    "\n",
    "# Create the CSS Locator string equivalent to the XPath\n",
    "css_locator = 'html > body > span:nth-of-type(1) a'"
   ]
  },
  {
   "cell_type": "code",
   "execution_count": null,
   "id": "fb56e26b",
   "metadata": {},
   "outputs": [],
   "source": [
    "# Create the XPath string equivalent to the CSS Locator \n",
    "xpath = '//div[@id=\"uid\"]/span//h4'\n",
    "\n",
    "# Create the CSS Locator string equivalent to the XPath\n",
    "css_locator = 'div#uid > span h4'"
   ]
  },
  {
   "cell_type": "code",
   "execution_count": null,
   "id": "034ae06d",
   "metadata": {},
   "outputs": [],
   "source": [
    "# Get an \"a\" in this Course\n",
    "from scrapy import Selector\n",
    "\n",
    "# Create a selector from the html (of a secret website)\n",
    "sel = Selector( text = html )\n",
    "\n",
    "# Fill in the blank\n",
    "css_locator = 'div.course-block > a'\n",
    "\n",
    "# Print the number of selected elements.\n",
    "how_many_elements( css_locator )"
   ]
  },
  {
   "cell_type": "code",
   "execution_count": null,
   "id": "df6171da",
   "metadata": {},
   "outputs": [],
   "source": [
    "# The CSS Wildcard\n",
    "\n",
    "# You can use the wildcard * in CSS Locators too! In fact, we can use it in a similar way, when we want to ignore the tag type. \n",
    "# For example:\n",
    "\n",
    "# The CSS Locator string '*' selects all elements in the HTML document.\n",
    "\n",
    "# The CSS Locator string '*.class-1' selects all elements which belong to class-1, but this is unnecessary since \n",
    "# the string '.class-1' will also do the same job.\n",
    "\n",
    "# The CSS Locator string '*#uid' selects the element with id attribute equal to uid, but this is unnecessary since \n",
    "# the string '#uid' will also do the same job.\n",
    "\n",
    "# Create the CSS Locator to all children of the element whose id is uid\n",
    "css_locator = \"#uid > *\""
   ]
  },
  {
   "cell_type": "code",
   "execution_count": null,
   "id": "43b8f680",
   "metadata": {},
   "outputs": [],
   "source": [
    "## CSS Attributes and Text Selection\n",
    "\n",
    "# Using xpath : <xpath-to-element>/@attr-name\n",
    "xpath = '//div[@id=\"uid\"]/a/@href' \n",
    "    \n",
    "using css locator : <css-to-element>::attr(attr-name)\n",
    "\n",
    "css = 'div#uid > a::attr(href)'"
   ]
  },
  {
   "cell_type": "code",
   "execution_count": null,
   "id": "6e06bdaf",
   "metadata": {},
   "outputs": [],
   "source": [
    "## Text Extraction\n",
    "\n",
    "# In xpath use 'text()'\n",
    "sel.xpath('//p[@id=\"p-example\"]/text()').extract()\n",
    "\n",
    "# Or  to include the text within future generations\n",
    "sel.xpath('//p[@id=\"p-example\"]//text()').extract()\n",
    "\n",
    "# For CSS locator, use ::text\n",
    "sel.css('p#p-example::text').extract\n",
    "\n",
    "# Or to include the text within future generations\n",
    "sel.css('p#p-example ::text').extract\n"
   ]
  },
  {
   "cell_type": "code",
   "execution_count": null,
   "id": "a9c10b1d",
   "metadata": {},
   "outputs": [],
   "source": [
    "from scrapy import Selector\n",
    "\n",
    "# Create a selector object from a secret website\n",
    "sel = Selector( text = html )\n",
    "\n",
    "# Select all hyperlinks of div elements belonging to class \"course-block\"\n",
    "course_as = sel.css( 'div.course-block > a' )\n",
    "\n",
    "# Selecting all href attributes chaining with css\n",
    "hrefs_from_css = course_as.css( '::attr(href)' )\n",
    "\n",
    "# Selecting all href attributes chaining with xpath\n",
    "hrefs_from_xpath = course_as.xpath( './@href' )"
   ]
  },
  {
   "cell_type": "code",
   "execution_count": null,
   "id": "7eb48a07",
   "metadata": {},
   "outputs": [],
   "source": [
    "# Create an XPath string to the desired text.\n",
    "xpath = '//p[@id=\"p3\"]/text()'\n",
    "\n",
    "# Create a CSS Locator string to the desired text.\n",
    "css_locator = 'p#p3::text'\n",
    "\n",
    "# Print the text from our selections\n",
    "print_results( xpath, css_locator )"
   ]
  },
  {
   "cell_type": "code",
   "execution_count": null,
   "id": "e569e24f",
   "metadata": {},
   "outputs": [],
   "source": [
    "# Create an XPath string to the desired text.\n",
    "xpath = '//p[@id=\"p3\"]//text()'\n",
    "\n",
    "# Create a CSS Locator string to the desired text.\n",
    "css_locator = 'p#p3 ::text'\n",
    "\n",
    "# Print the text from our selections\n",
    "print_results( xpath, css_locator )"
   ]
  },
  {
   "cell_type": "code",
   "execution_count": null,
   "id": "20e6434b",
   "metadata": {},
   "outputs": [],
   "source": [
    "## Selector vs. Reponse\n",
    "\n",
    "# xpath\n",
    "response.xpath('//div/span[@class=\"bio\"]')\n",
    "\n",
    "# css locator # Remembering - to class, use '.'; to id, use '#'\n",
    "responde.css(' div > span.bio')\n",
    "\n",
    "# Or together\n",
    "response.xpath('//div').css('span.bio')\n",
    "\n",
    "# Or yet\n",
    "response.xpath('//div').css('span.bio').extract\n",
    "response.xpath('//div').css('span.bio').extract_first\n",
    "\n"
   ]
  },
  {
   "cell_type": "code",
   "execution_count": null,
   "id": "7e03e21f",
   "metadata": {},
   "outputs": [],
   "source": [
    "# Response nos permite raspar várias páginas da web # Capacidade de rastreamento\n",
    "\n",
    "response.url = 'https://www.datacamp.com/courses/all'\n",
    "\n",
    "response.follow('next_url')"
   ]
  },
  {
   "cell_type": "code",
   "execution_count": null,
   "id": "eb756ff4",
   "metadata": {},
   "outputs": [],
   "source": [
    "# Get the URL to the website loaded in response\n",
    "this_url = response.url\n",
    "\n",
    "# Get the title of the website loaded in response\n",
    "this_title = response.xpath( '/html/head/title/text()' ).extract_first()\n",
    "\n",
    "# Print out our findings\n",
    "print_url_title( this_url, this_title )"
   ]
  },
  {
   "cell_type": "code",
   "execution_count": null,
   "id": "0a3415f4",
   "metadata": {},
   "outputs": [],
   "source": [
    "# Create a CSS Locator string to the desired hyperlink elements\n",
    "css_locator = 'a.course-block__link'\n",
    "\n",
    "# Select the hyperlink elements from response and sel\n",
    "response_as = response.css( css_locator )\n",
    "sel_as = sel.css( css_locator )\n",
    "\n",
    "# Examine similarity\n",
    "nr = len( response_as )\n",
    "ns = len( sel_as )\n",
    "for i in range( min(nr, ns, 2) ):\n",
    "  print( \"Element %d from response: %s\" % (i+1, response_as[i]) )\n",
    "  print( \"Element %d from sel: %s\" % (i+1, sel_as[i]) )\n",
    "  print( \"\" )"
   ]
  },
  {
   "cell_type": "code",
   "execution_count": null,
   "id": "3de76b36",
   "metadata": {},
   "outputs": [],
   "source": [
    "# Select all desired div elements\n",
    "divs = response.css('div.course-block')\n",
    "\n",
    "# Take the first div element\n",
    "first_div = divs[0]\n",
    "\n",
    "# Extract the text from the (only) h4 element in first_div\n",
    "h4_text = first_div.css('h4::text').extract_first()\n",
    "\n",
    "# Print out the text\n",
    "print( \"The text from the h4 element is:\", h4_text )"
   ]
  },
  {
   "cell_type": "code",
   "execution_count": null,
   "id": "fd05376d",
   "metadata": {},
   "outputs": [],
   "source": [
    "html = 'https://www.datacamp.com/courses/all'\n",
    "\n",
    "course_divs = response.css('div.course-block')\n",
    "\n",
    "print(len(course_divs))]\n",
    "\n",
    "first_div = course_divs[0]\n",
    "\n",
    "children = first_div.xpath('./*')\n",
    "\n",
    "print(len(children))\n",
    "\n",
    "first_child = children[0]\n",
    "\n",
    "second_child = children[1]\n",
    "\n",
    "print(second_child.extract())\n",
    "\n",
    "# Listful\n",
    "\n",
    "## CSS Locator\n",
    "links = response.css('div.course-block > a::attr(href)').extract()\n",
    "\n",
    "## Or a mix of CSS and xpath\n",
    "\n",
    "course_divs = response.css('div.course-block') # step 1\n",
    "hrefs = response.xpath('./a/@href')            # step 2\n",
    "links = hrefs.extract()                        # step 3\n",
    "\n",
    "for l in links:\n",
    "print(l)"
   ]
  },
  {
   "cell_type": "code",
   "execution_count": null,
   "id": "2b3d550b",
   "metadata": {},
   "outputs": [],
   "source": [
    "# Create a SelectorList of the course titles\n",
    "crs_title_els = response.css('div.course-block h4::text')\n",
    "\n",
    "# Extract the course titles \n",
    "crs_titles = crs_title_els.extract()\n",
    "\n",
    "# Print out the course titles \n",
    "for el in crs_titles:\n",
    "  print( \">>\", el )"
   ]
  },
  {
   "cell_type": "code",
   "execution_count": null,
   "id": "14e74617",
   "metadata": {},
   "outputs": [],
   "source": [
    "# Calculate the number of children of the mystery element\n",
    "how_many_kids = len( mystery.xpath( './*' ) )\n",
    "\n",
    "# Print out the number\n",
    "print( \"The number of elements you selected was:\", how_many_kids )"
   ]
  }
 ],
 "metadata": {
  "kernelspec": {
   "display_name": "Python 3 (ipykernel)",
   "language": "python",
   "name": "python3"
  },
  "language_info": {
   "codemirror_mode": {
    "name": "ipython",
    "version": 3
   },
   "file_extension": ".py",
   "mimetype": "text/x-python",
   "name": "python",
   "nbconvert_exporter": "python",
   "pygments_lexer": "ipython3",
   "version": "3.9.7"
  }
 },
 "nbformat": 4,
 "nbformat_minor": 5
}
