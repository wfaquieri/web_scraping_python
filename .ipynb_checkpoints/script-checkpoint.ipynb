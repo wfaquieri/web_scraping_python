{
 "cells": [
  {
   "cell_type": "code",
   "execution_count": null,
   "id": "4ccb39f0",
   "metadata": {},
   "outputs": [],
   "source": [
    "## Create your own bit of HTML code (as a python string)\n",
    "\n",
    "html = '''\n",
    "<html>\n",
    "  <head>\n",
    "    <title>Intro HTML</title>\n",
    "  </head>\n",
    "  <body>\n",
    "    <p>Hello World!</p>\n",
    "    <p>Enjoy DataCamp!</p>\n",
    "  </body>\n",
    "</html>\n",
    "'''"
   ]
  },
  {
   "cell_type": "code",
   "execution_count": null,
   "id": "6184d704",
   "metadata": {},
   "outputs": [],
   "source": [
    "<html>\n",
    "  <head>\n",
    "    <title>Website Title</title>\n",
    "    <link rel=\"stylesheet\" type=\"text/css\" href=\"style.css\">\n",
    "  </head>\n",
    "  <body>\n",
    "    <div class=\"class1\" id=\"div1\">\n",
    "      <p class=\"class2\">\n",
    "        Visit <a href=\"http://datacamp.com/\">DataCamp</a>!\n",
    "      </p>\n",
    "    </div>\n",
    "    <div class=\"class1 class3\" id=\"div2\">\n",
    "      Hello World!\n",
    "    </div>\n",
    "  </body>\n",
    "</html>"
   ]
  },
  {
   "cell_type": "code",
   "execution_count": null,
   "id": "8e0da123",
   "metadata": {},
   "outputs": [],
   "source": [
    "# HTML code string\n",
    "html = '''\n",
    "<html>\n",
    "  <body>\n",
    "    <div class=\"class1\" id=\"div1\">\n",
    "      <p class=\"class2\">Visit DataCamp!</p>\n",
    "    </div>\n",
    "    <div class=\"you-are-classy\">\n",
    "      <p class=\"class2\">Keep up the good work!</p>\n",
    "    </div>\n",
    "  </body>\n",
    "</html>\n",
    "'''\n",
    "# Print out the class of the second div element\n",
    "whats_my_class( html )"
   ]
  },
  {
   "cell_type": "code",
   "execution_count": null,
   "id": "fb97e57c",
   "metadata": {},
   "outputs": [],
   "source": [
    "# Create an XPath string to the desired paragraph element\n",
    "xpath = '/html/body/div[1]/div/p'\n",
    "\n",
    "# Print out the element text\n",
    "print_element_text(xpath)"
   ]
  },
  {
   "cell_type": "code",
   "execution_count": null,
   "id": "301b22ae",
   "metadata": {},
   "outputs": [],
   "source": [
    "# Example 1\n",
    "xpath = '//p[@class=\"class-1\"]'\n",
    "\n",
    "# Example 2\n",
    "xpath = '//*[@id=\"uid\"]'\n",
    "\n",
    "# Example 3\n",
    "xpath = '//div[@id=\"uid\"]/p[2]'"
   ]
  },
  {
   "cell_type": "code",
   "execution_count": null,
   "id": "67832da3",
   "metadata": {},
   "outputs": [],
   "source": [
    "# Contains\n",
    "xpath = '//*[contains(@class,\"class-1\")]'\n",
    "\n",
    "# Example 4\n",
    "xpath = '/html/body/div/p[2]/@class'\n",
    "\n",
    "# Ex 5\n",
    "# Create an xpath to the href attribute\n",
    "xpath = '//p[@id=\"p2\"]/a/@href'\n",
    "\n",
    "# Ex 6 # Create an xpath to the href attributes\n",
    "xpath = '//a[contains(@class,\"package-snippet\")]/@href'"
   ]
  },
  {
   "cell_type": "code",
   "execution_count": null,
   "id": "c27f7189",
   "metadata": {},
   "outputs": [],
   "source": [
    "## Setting up a selector\n",
    "from scrapy import selector\n",
    "\n",
    "sel = Selector(text = html)\n",
    "sel.xpath(\"//p\")\n",
    "\n",
    "sel.xpath(\"//p\").extract()\n",
    "\n",
    "sel.xpath(\"//p\").extract_first()"
   ]
  },
  {
   "cell_type": "code",
   "execution_count": null,
   "id": "c5c6b495",
   "metadata": {},
   "outputs": [],
   "source": [
    "## Extracting data from a selector\n",
    "ps = sel.xpath('\\\\p')\n",
    "\n",
    "second_p = ps[1] # first = 0; second = 1\n",
    "\n",
    "second_p.extract()"
   ]
  },
  {
   "cell_type": "code",
   "execution_count": null,
   "id": "64b49dc8",
   "metadata": {},
   "outputs": [],
   "source": [
    "sel.xpath('/html/body/div[2]')\n",
    "\n",
    "#is the same as\n",
    "sel.xpath('/html').xpath('./body/div[2]')\n",
    "\n",
    "# or is the same as\n",
    "sel.xpath('/html').xpath('./body').xpath('./div[2]')"
   ]
  },
  {
   "cell_type": "code",
   "execution_count": null,
   "id": "888c42fc",
   "metadata": {},
   "outputs": [],
   "source": [
    "# Chain together xpath methods to select desired p element\n",
    "sel.xpath('//div').xpath('./span/p[3]')"
   ]
  },
  {
   "cell_type": "code",
   "execution_count": null,
   "id": "d2eade86",
   "metadata": {},
   "outputs": [],
   "source": [
    "from scrapy import Selector\n",
    "\n",
    "# HTML document \n",
    "html = '\\n<html>\\n<body>\\n<div>Div 1: <p>paragraph 1</p></div>\\n<div>Div 2: <p>paragraph 2</p> <p>paragraph 3</p> </div>\\n<div>Div 3: <p>paragraph 4</p> <p>paragraph 5</p> <p>paragraph 6</p></div>\\n<div>Div 4: <p>paragraph 7</p></div>\\n<div>Div 5: <p>paragraph 8</p></div>\\n</body>\\n</html>\\n'\n",
    "\n",
    "# Create a Selector selecting html as the HTML document\n",
    "sel = Selector( text = html )\n",
    "\n",
    "# Create a SelectorList of all div elements in the HTML document\n",
    "divs = sel.xpath( '//div' )"
   ]
  },
  {
   "cell_type": "code",
   "execution_count": null,
   "id": "2be55b62",
   "metadata": {},
   "outputs": [],
   "source": [
    "# The Source of the Source\n",
    "## Ispecting the HTML\n",
    "import requests\n",
    "url = https://en.wikipedia.org/wiki/Web_scraping\n",
    "    \n",
    "html = requets.get(url).content\n",
    "\n",
    "sel = Selector( text = html )"
   ]
  },
  {
   "cell_type": "code",
   "execution_count": null,
   "id": "86c7efa9",
   "metadata": {},
   "outputs": [],
   "source": [
    "## Requesting a Selector\n",
    "\n",
    "# Import a scrapy Selector\n",
    "from scrapy import Selector\n",
    "\n",
    "# Import requests\n",
    "import requests\n",
    "\n",
    "# Create the string html containing the HTML source\n",
    "html = requests.get( url ).content\n",
    "\n",
    "# Create the Selector object sel from html\n",
    "sel = Selector( text = html )\n",
    "\n",
    "# Print out the number of elements in the HTML document\n",
    "print( \"There are 1020 elements in the HTML document.\")\n",
    "print( \"You have found: \", len( sel.xpath('//*') ) )"
   ]
  },
  {
   "cell_type": "code",
   "execution_count": null,
   "id": "7832fa9a",
   "metadata": {},
   "outputs": [],
   "source": [
    "## From XPath to CSS - CSS Locators\n",
    "\n",
    "# '/' replace by '>' (except first character)\n",
    "xpath = '/html/body/div'\n",
    "css_locator = html > body > div\n",
    "\n",
    "\n",
    "# '//' replace by a blank space (except first character)\n",
    "xpath = //div/span//p\n",
    "css_locator = div > span p\n",
    "\n",
    "# '[N]' replace by ':nth-of-type(N)''\n",
    "xpath = //div/p[2]\n",
    "css_locator = div > p:nth-of-type(2)"
   ]
  },
  {
   "cell_type": "code",
   "execution_count": null,
   "id": "7946b6b4",
   "metadata": {},
   "outputs": [],
   "source": [
    "## Attributes in CSS\n",
    "\n",
    "# To find an element by class, use .\n",
    "\n",
    "# To find an element by id, use #"
   ]
  },
  {
   "cell_type": "code",
   "execution_count": null,
   "id": "b8a9bdda",
   "metadata": {},
   "outputs": [],
   "source": [
    "# Create the XPath string equivalent to the CSS Locator \n",
    "xpath = '/html/body/span[1]//a'\n",
    "\n",
    "# Create the CSS Locator string equivalent to the XPath\n",
    "css_locator = 'html > body > span:nth-of-type(1) a'"
   ]
  },
  {
   "cell_type": "code",
   "execution_count": null,
   "id": "fb56e26b",
   "metadata": {},
   "outputs": [],
   "source": [
    "# Create the XPath string equivalent to the CSS Locator \n",
    "xpath = '//div[@id=\"uid\"]/span//h4'\n",
    "\n",
    "# Create the CSS Locator string equivalent to the XPath\n",
    "css_locator = 'div#uid > span h4'"
   ]
  },
  {
   "cell_type": "code",
   "execution_count": null,
   "id": "034ae06d",
   "metadata": {},
   "outputs": [],
   "source": [
    "# Get an \"a\" in this Course"
   ]
  }
 ],
 "metadata": {
  "kernelspec": {
   "display_name": "Python 3 (ipykernel)",
   "language": "python",
   "name": "python3"
  },
  "language_info": {
   "codemirror_mode": {
    "name": "ipython",
    "version": 3
   },
   "file_extension": ".py",
   "mimetype": "text/x-python",
   "name": "python",
   "nbconvert_exporter": "python",
   "pygments_lexer": "ipython3",
   "version": "3.9.7"
  }
 },
 "nbformat": 4,
 "nbformat_minor": 5
}
